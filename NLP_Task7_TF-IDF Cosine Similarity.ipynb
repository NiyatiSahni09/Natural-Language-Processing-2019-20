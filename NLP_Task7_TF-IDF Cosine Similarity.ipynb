{
 "cells": [
  {
   "cell_type": "code",
   "execution_count": 46,
   "metadata": {},
   "outputs": [
    {
     "name": "stderr",
     "output_type": "stream",
     "text": [
      "[nltk_data] Downloading package punkt to\n",
      "[nltk_data]     C:\\Users\\hp\\AppData\\Roaming\\nltk_data...\n",
      "[nltk_data]   Package punkt is already up-to-date!\n",
      "[nltk_data] Downloading package stopwords to\n",
      "[nltk_data]     C:\\Users\\hp\\AppData\\Roaming\\nltk_data...\n",
      "[nltk_data]   Package stopwords is already up-to-date!\n"
     ]
    },
    {
     "data": {
      "text/plain": [
       "True"
      ]
     },
     "execution_count": 46,
     "metadata": {},
     "output_type": "execute_result"
    }
   ],
   "source": [
    "import glob\n",
    "import nltk\n",
    "nltk.download('punkt')\n",
    "nltk.download('stopwords')"
   ]
  },
  {
   "cell_type": "code",
   "execution_count": 47,
   "metadata": {},
   "outputs": [],
   "source": [
    "from math import*"
   ]
  },
  {
   "cell_type": "code",
   "execution_count": 48,
   "metadata": {},
   "outputs": [],
   "source": [
    "line=\"\""
   ]
  },
  {
   "cell_type": "code",
   "execution_count": 49,
   "metadata": {},
   "outputs": [],
   "source": [
    "wordlist=list()"
   ]
  },
  {
   "cell_type": "code",
   "execution_count": 43,
   "metadata": {},
   "outputs": [
    {
     "name": "stdout",
     "output_type": "stream",
     "text": [
      "['C:\\\\Users\\\\hp\\\\Desktop\\\\webm\\\\1.txt.txt', 'C:\\\\Users\\\\hp\\\\Desktop\\\\webm\\\\2.txt.txt', 'C:\\\\Users\\\\hp\\\\Desktop\\\\webm\\\\3.txt.txt']\n"
     ]
    }
   ],
   "source": [
    "flist = glob.glob(r'C:\\Users\\hp\\Desktop\\webm\\*.txt')\n",
    "print(flist)"
   ]
  },
  {
   "cell_type": "code",
   "execution_count": 78,
   "metadata": {},
   "outputs": [
    {
     "name": "stdout",
     "output_type": "stream",
     "text": [
      "A web crawler (also known as a web spider or web robot) is a program or automated script which browses the World Wide Web in a methodical, automated manner.\n",
      "\n",
      "This process is called Web crawling or spidering.\n",
      "\n",
      "Many legitimate sites, in particular search engines, use spidering as a means of providing up-to-date data.\n",
      "\n",
      "Web crawlers are mainly used to create a copy of all the visited pages for later processing by a search engine, that will index the downloaded pages to provide fast searches.\n",
      "\n",
      "Crawlers can also be used for automating maintenance tasks on a Web site, such as checking links or validating HTML code.\n",
      "\n",
      "Also, crawlers can be used to gather specific types of information from Web pages, such as harvesting e-mail addresses (usually for spam\n",
      "\"WWW\" and \"The Web\" redirect here. For other uses of WWW, see WWW (disambiguation). For other uses of web, see Web (disambiguation).\n",
      "For the first web software, see WorldWideWeb.\n",
      "Not to be confused with the Internet.\n",
      "\n",
      "\n",
      "Multiple web resources with a common theme, a common domain name, or both, make up a website. Websites are stored in computers that are running a program called a web server that responds to requests made over the Internet from web browsers running on a user's computer. Website content can be largely provided by a publisher, or interactively where users contribute content or the content depends upon the users or their actions. Websites may be provided for a myriad of informative, entertainment, commercial, governmental, or non-governmental reasons.\n",
      "The Internet (portmanteau of interconnected network) is the global system of interconnected computer networks that use the Internet protocol suite (TCP/IP) to link devices worldwide. It is a network of networks that consists of private, public, academic, business, and government networks of local to global scope, linked by a broad array of electronic, wireless, and optical networking technologies. The Internet carries a vast range of information resources and services, such as the inter-linked hypertext documents and applications of the World Wide Web (WWW), electronic mail, telephony, and file sharing.\n",
      "\n",
      "The origins of the Internet date back to research commissioned by the federal government of the United States in the 1960s to build robust, fault-tolerant communication with computer networks.[1] The primary precursor network, the ARPANET, initially served as a backbone for interconnection of regional academic and military networks in the 1980s. The funding of the National Science Foundation Network as a new backbone in the 1980s, as well as private funding for other commercial extensions, led to worldwide participation in the development of new networking technologies, and the merger of many network\n",
      "['a web crawler (also known as a web spider or web robot) is a program or automated script which browses the world wide web in a methodical, automated manner.\\n\\nthis process is called web crawling or spidering.\\n\\nmany legitimate sites, in particular search engines, use spidering as a means of providing up-to-date data.\\n\\nweb crawlers are mainly used to create a copy of all the visited pages for later processing by a search engine, that will index the downloaded pages to provide fast searches.\\n\\ncrawlers can also be used for automating maintenance tasks on a web site, such as checking links or validating html code.\\n\\nalso, crawlers can be used to gather specific types of information from web pages, such as harvesting e-mail addresses (usually for spam', '\"www\" and \"the web\" redirect here. for other uses of www, see www (disambiguation). for other uses of web, see web (disambiguation).\\nfor the first web software, see worldwideweb.\\nnot to be confused with the internet.\\n\\n\\nmultiple web resources with a common theme, a common domain name, or both, make up a website. websites are stored in computers that are running a program called a web server that responds to requests made over the internet from web browsers running on a user\\'s computer. website content can be largely provided by a publisher, or interactively where users contribute content or the content depends upon the users or their actions. websites may be provided for a myriad of informative, entertainment, commercial, governmental, or non-governmental reasons.', 'the internet (portmanteau of interconnected network) is the global system of interconnected computer networks that use the internet protocol suite (tcp/ip) to link devices worldwide. it is a network of networks that consists of private, public, academic, business, and government networks of local to global scope, linked by a broad array of electronic, wireless, and optical networking technologies. the internet carries a vast range of information resources and services, such as the inter-linked hypertext documents and applications of the world wide web (www), electronic mail, telephony, and file sharing.\\n\\nthe origins of the internet date back to research commissioned by the federal government of the united states in the 1960s to build robust, fault-tolerant communication with computer networks.[1] the primary precursor network, the arpanet, initially served as a backbone for interconnection of regional academic and military networks in the 1980s. the funding of the national science foundation network as a new backbone in the 1980s, as well as private funding for other commercial extensions, led to worldwide participation in the development of new networking technologies, and the merger of many network']\n"
     ]
    }
   ],
   "source": [
    "wordlist = list()\n",
    "s = set()\n",
    "for fname in flist:\n",
    "    tfile = open(fname, 'r')\n",
    "    line = tfile.read()\n",
    "    print(line)\n",
    "    line = line.lower()\n",
    "    #s = s.union(set(line.split(' ')))\n",
    "    wordlist.append(line)\n",
    "    tfile.close()\n",
    "#print(s)\n",
    "print(wordlist)"
   ]
  },
  {
   "cell_type": "code",
   "execution_count": 65,
   "metadata": {},
   "outputs": [],
   "source": [
    "from nltk.corpus import stopwords"
   ]
  },
  {
   "cell_type": "code",
   "execution_count": 66,
   "metadata": {},
   "outputs": [],
   "source": [
    "stop_words=set(stopwords.words('english'))"
   ]
  },
  {
   "cell_type": "code",
   "execution_count": 67,
   "metadata": {},
   "outputs": [],
   "source": [
    "from nltk.tokenize import word_tokenize, sent_tokenize"
   ]
  },
  {
   "cell_type": "code",
   "execution_count": 79,
   "metadata": {},
   "outputs": [],
   "source": [
    "word_tokens=[]\n",
    "for doc in wordlist:\n",
    "    word_tokens.append(word_tokenize(doc))"
   ]
  },
  {
   "cell_type": "code",
   "execution_count": 86,
   "metadata": {},
   "outputs": [],
   "source": [
    "from nltk.stem import PorterStemmer, LancasterStemmer"
   ]
  },
  {
   "cell_type": "code",
   "execution_count": 87,
   "metadata": {},
   "outputs": [],
   "source": [
    "ps = PorterStemmer()"
   ]
  },
  {
   "cell_type": "code",
   "execution_count": 99,
   "metadata": {},
   "outputs": [],
   "source": [
    "l2=[]\n",
    "for doc in word_tokens:\n",
    "    new_word_tokens=[]\n",
    "    for word in doc:\n",
    "        if word not in stop_words:\n",
    "            new_word_tokens.append(ps.stem(word))\n",
    "    l2.append( new_word_tokens)"
   ]
  },
  {
   "cell_type": "code",
   "execution_count": 100,
   "metadata": {},
   "outputs": [],
   "source": [
    "s=set()\n",
    "for doc in l2:\n",
    "    s=s.union(set(doc))"
   ]
  },
  {
   "cell_type": "code",
   "execution_count": 101,
   "metadata": {},
   "outputs": [],
   "source": [
    "len(s)\n",
    "s=list(s)"
   ]
  },
  {
   "cell_type": "code",
   "execution_count": 102,
   "metadata": {},
   "outputs": [],
   "source": [
    "idf=dict()\n",
    "for term in s:\n",
    "    c=0\n",
    "    for doc in l2:\n",
    "        if term in doc:\n",
    "            c+=1;\n",
    "    idf[term]=c/3\n"
   ]
  },
  {
   "cell_type": "code",
   "execution_count": 148,
   "metadata": {},
   "outputs": [],
   "source": [
    "tfidf=[]\n",
    "for doc in l2:\n",
    "    di=dict()\n",
    "    max=0\n",
    "    for terms in s:\n",
    "        di[terms]=0\n",
    "        for word in doc:\n",
    "            if word==terms:\n",
    "                di[terms]+=1\n",
    "        if(max<=di[terms]):\n",
    "            max=di[terms]\n",
    "    for t in di:\n",
    "        di[t]=(di[t]/max)*idf[t]\n",
    "    tfidf.append(di)"
   ]
  },
  {
   "cell_type": "code",
   "execution_count": 156,
   "metadata": {},
   "outputs": [
    {
     "data": {
      "text/plain": [
       "[0.0,\n",
       " 0.0,\n",
       " 0.0,\n",
       " 0.0,\n",
       " 0.0,\n",
       " 0.0,\n",
       " 0.125,\n",
       " 0.0,\n",
       " 0.08333333333333333,\n",
       " 0.0,\n",
       " 0.125,\n",
       " 0.125,\n",
       " 0.0,\n",
       " 0.0,\n",
       " 0.125,\n",
       " 0.041666666666666664,\n",
       " 0.0,\n",
       " 0.5,\n",
       " 0.08333333333333333,\n",
       " 0.0,\n",
       " 0.0,\n",
       " 0.0,\n",
       " 0.0,\n",
       " 0.0,\n",
       " 0.041666666666666664,\n",
       " 0.041666666666666664,\n",
       " 0.0,\n",
       " 0.041666666666666664,\n",
       " 0.0,\n",
       " 0.0,\n",
       " 0.0,\n",
       " 0.0,\n",
       " 0.041666666666666664,\n",
       " 0.0,\n",
       " 0.0,\n",
       " 0.0,\n",
       " 0.0,\n",
       " 0.041666666666666664,\n",
       " 0.0,\n",
       " 0.0,\n",
       " 0.041666666666666664,\n",
       " 0.0,\n",
       " 0.0,\n",
       " 0.0,\n",
       " 0.0,\n",
       " 0.041666666666666664,\n",
       " 0.875,\n",
       " 0.041666666666666664,\n",
       " 0.0,\n",
       " 0.0,\n",
       " 0.0,\n",
       " 0.041666666666666664,\n",
       " 0.0,\n",
       " 0.0,\n",
       " 0.041666666666666664,\n",
       " 0.0,\n",
       " 0.0,\n",
       " 0.0,\n",
       " 0.0,\n",
       " 0.0,\n",
       " 0.0,\n",
       " 0.0,\n",
       " 0.0,\n",
       " 0.041666666666666664,\n",
       " 0.0,\n",
       " 0.125,\n",
       " 0.0,\n",
       " 0.0,\n",
       " 0.0,\n",
       " 0.0,\n",
       " 0.0,\n",
       " 0.0,\n",
       " 0.041666666666666664,\n",
       " 0.0,\n",
       " 0.0,\n",
       " 0.0,\n",
       " 0.041666666666666664,\n",
       " 0.0,\n",
       " 0.0,\n",
       " 0.25,\n",
       " 0.0,\n",
       " 0.041666666666666664,\n",
       " 0.08333333333333333,\n",
       " 0.0,\n",
       " 0.0,\n",
       " 0.041666666666666664,\n",
       " 0.0,\n",
       " 0.0,\n",
       " 0.041666666666666664,\n",
       " 0.0,\n",
       " 0.041666666666666664,\n",
       " 0.041666666666666664,\n",
       " 0.0,\n",
       " 0.08333333333333333,\n",
       " 0.0,\n",
       " 0.0,\n",
       " 0.041666666666666664,\n",
       " 0.0,\n",
       " 0.16666666666666666,\n",
       " 0.0,\n",
       " 0.041666666666666664,\n",
       " 0.0,\n",
       " 0.0,\n",
       " 0.0,\n",
       " 0.0,\n",
       " 0.0,\n",
       " 0.0,\n",
       " 0.0,\n",
       " 0.0,\n",
       " 0.0,\n",
       " 0.0,\n",
       " 0.08333333333333333,\n",
       " 0.0,\n",
       " 0.08333333333333333,\n",
       " 0.0,\n",
       " 0.0,\n",
       " 0.0,\n",
       " 0.041666666666666664,\n",
       " 0.0,\n",
       " 0.0,\n",
       " 0.08333333333333333,\n",
       " 0.08333333333333333,\n",
       " 0.08333333333333333,\n",
       " 0.0,\n",
       " 0.125,\n",
       " 0.0,\n",
       " 0.0,\n",
       " 0.041666666666666664,\n",
       " 0.041666666666666664,\n",
       " 0.041666666666666664,\n",
       " 0.0,\n",
       " 0.0,\n",
       " 0.041666666666666664,\n",
       " 0.041666666666666664,\n",
       " 0.0,\n",
       " 0.0,\n",
       " 0.16666666666666666,\n",
       " 0.0,\n",
       " 0.0,\n",
       " 0.041666666666666664,\n",
       " 0.625,\n",
       " 0.0,\n",
       " 0.0,\n",
       " 0.0,\n",
       " 0.0,\n",
       " 0.041666666666666664,\n",
       " 0.0,\n",
       " 0.0,\n",
       " 0.0,\n",
       " 0.0,\n",
       " 0.0,\n",
       " 0.0,\n",
       " 1.0,\n",
       " 0.0,\n",
       " 0.0,\n",
       " 0.0,\n",
       " 0.0,\n",
       " 0.0,\n",
       " 0.125,\n",
       " 0.0,\n",
       " 0.041666666666666664,\n",
       " 0.0,\n",
       " 0.041666666666666664,\n",
       " 0.041666666666666664,\n",
       " 0.0,\n",
       " 0.0,\n",
       " 0.041666666666666664,\n",
       " 0.0,\n",
       " 0.0,\n",
       " 0.0,\n",
       " 0.041666666666666664,\n",
       " 0.0,\n",
       " 0.0]"
      ]
     },
     "execution_count": 156,
     "metadata": {},
     "output_type": "execute_result"
    }
   ],
   "source": [
    "list(tfidf[0].values())"
   ]
  },
  {
   "cell_type": "code",
   "execution_count": 178,
   "metadata": {},
   "outputs": [
    {
     "name": "stdout",
     "output_type": "stream",
     "text": [
      "what is web crawler? tell me?\n"
     ]
    }
   ],
   "source": [
    "str=input()"
   ]
  },
  {
   "cell_type": "code",
   "execution_count": 179,
   "metadata": {},
   "outputs": [],
   "source": [
    "word_tokens=word_tokenize(str)"
   ]
  },
  {
   "cell_type": "code",
   "execution_count": 180,
   "metadata": {},
   "outputs": [
    {
     "data": {
      "text/plain": [
       "['what', 'is', 'web', 'crawler', '?', 'tell', 'me', '?']"
      ]
     },
     "execution_count": 180,
     "metadata": {},
     "output_type": "execute_result"
    }
   ],
   "source": [
    "word_tokens"
   ]
  },
  {
   "cell_type": "code",
   "execution_count": 181,
   "metadata": {},
   "outputs": [
    {
     "data": {
      "text/plain": [
       "['web', 'crawler', '?', 'tell', '?']"
      ]
     },
     "execution_count": 181,
     "metadata": {},
     "output_type": "execute_result"
    }
   ],
   "source": [
    "n=[]\n",
    "for word in word_tokens:\n",
    "    if word not in set(stopwords.words('english')):\n",
    "        n.append(word)\n",
    "n"
   ]
  },
  {
   "cell_type": "code",
   "execution_count": 182,
   "metadata": {},
   "outputs": [],
   "source": [
    "from nltk.stem import PorterStemmer\n"
   ]
  },
  {
   "cell_type": "code",
   "execution_count": 183,
   "metadata": {},
   "outputs": [],
   "source": [
    "ps=PorterStemmer()"
   ]
  },
  {
   "cell_type": "code",
   "execution_count": 184,
   "metadata": {},
   "outputs": [
    {
     "data": {
      "text/plain": [
       "['web', 'crawler', '?', 'tell', '?']"
      ]
     },
     "execution_count": 184,
     "metadata": {},
     "output_type": "execute_result"
    }
   ],
   "source": [
    "n_pstem=[]\n",
    "for word in word_tokens:\n",
    "    if word not in set(stopwords.words('english')):\n",
    "        n_pstem.append(ps.stem(word))\n",
    "n_pstem"
   ]
  },
  {
   "cell_type": "code",
   "execution_count": 185,
   "metadata": {},
   "outputs": [
    {
     "data": {
      "text/plain": [
       "{'web': 1, 'crawler': 1, '?': 2, 'tell': 1}"
      ]
     },
     "execution_count": 185,
     "metadata": {},
     "output_type": "execute_result"
    }
   ],
   "source": [
    "tf = dict()\n",
    "for word in n:\n",
    "    if word in tf:\n",
    "        tf[word]+=1\n",
    "    else:\n",
    "        tf[word]=1\n",
    "tf"
   ]
  },
  {
   "cell_type": "code",
   "execution_count": 187,
   "metadata": {},
   "outputs": [
    {
     "data": {
      "text/plain": [
       "['optic',\n",
       " 'protocol',\n",
       " 'theme',\n",
       " 'applic',\n",
       " \"''\",\n",
       " 'browser',\n",
       " 'also',\n",
       " 'confus',\n",
       " 'mani',\n",
       " 'document',\n",
       " 'search',\n",
       " 'page',\n",
       " 'robust',\n",
       " 'fault-toler',\n",
       " ')',\n",
       " 'valid',\n",
       " 'make',\n",
       " 'use',\n",
       " 'wide',\n",
       " 'network',\n",
       " 'common',\n",
       " 'new',\n",
       " ']',\n",
       " 'myriad',\n",
       " 'crawl',\n",
       " 'particular',\n",
       " 'see',\n",
       " 'fast',\n",
       " 'rang',\n",
       " 'extens',\n",
       " 'fund',\n",
       " 'arpanet',\n",
       " 'known',\n",
       " 'publish',\n",
       " 'initi',\n",
       " 'global',\n",
       " 'unit',\n",
       " 'mean',\n",
       " 'first',\n",
       " 'depend',\n",
       " 'manner',\n",
       " 'domain',\n",
       " 'vast',\n",
       " 'store',\n",
       " 'privat',\n",
       " 'method',\n",
       " ',',\n",
       " 'e-mail',\n",
       " 'date',\n",
       " 'merger',\n",
       " 'inter-link',\n",
       " 'check',\n",
       " 'mail',\n",
       " 'academ',\n",
       " 'download',\n",
       " 'array',\n",
       " 'local',\n",
       " 'foundat',\n",
       " 'government',\n",
       " 'entertain',\n",
       " 'tcp/ip',\n",
       " 'www',\n",
       " 'state',\n",
       " 'copi',\n",
       " 'primari',\n",
       " 'spider',\n",
       " 'origin',\n",
       " 'public',\n",
       " 'wireless',\n",
       " '1',\n",
       " 'scienc',\n",
       " 'govern',\n",
       " 'task',\n",
       " 'larg',\n",
       " 'interact',\n",
       " 'comput',\n",
       " 'html',\n",
       " 'telephoni',\n",
       " 'contribut',\n",
       " '(',\n",
       " '[',\n",
       " 'legitim',\n",
       " 'call',\n",
       " 'well',\n",
       " 'respond',\n",
       " 'harvest',\n",
       " 'worldwideweb',\n",
       " 'file',\n",
       " 'type',\n",
       " 'technolog',\n",
       " 'brows',\n",
       " 'index',\n",
       " 'worldwid',\n",
       " 'site',\n",
       " 'particip',\n",
       " 'upon',\n",
       " 'later',\n",
       " 'portmanteau',\n",
       " 'provid',\n",
       " 'region',\n",
       " 'creat',\n",
       " 'disambigu',\n",
       " 'feder',\n",
       " 'redirect',\n",
       " '``',\n",
       " 'commiss',\n",
       " 'serv',\n",
       " 'carri',\n",
       " 'scope',\n",
       " \"'s\",\n",
       " 'build',\n",
       " 'engin',\n",
       " 'research',\n",
       " 'world',\n",
       " 'websit',\n",
       " 'request',\n",
       " 'user',\n",
       " 'script',\n",
       " 'interconnect',\n",
       " 'content',\n",
       " 'process',\n",
       " 'link',\n",
       " 'program',\n",
       " 'softwar',\n",
       " 'inform',\n",
       " 'devic',\n",
       " 'led',\n",
       " 'up-to-d',\n",
       " 'specif',\n",
       " 'robot',\n",
       " 'multipl',\n",
       " 'militari',\n",
       " 'gather',\n",
       " 'visit',\n",
       " 'internet',\n",
       " 'run',\n",
       " 'crawler',\n",
       " 'made',\n",
       " 'non-government',\n",
       " 'mainten',\n",
       " '.',\n",
       " 'back',\n",
       " 'commun',\n",
       " '1980',\n",
       " 'develop',\n",
       " 'address',\n",
       " 'backbon',\n",
       " 'broad',\n",
       " 'suit',\n",
       " 'system',\n",
       " 'may',\n",
       " 'share',\n",
       " 'web',\n",
       " 'resourc',\n",
       " 'servic',\n",
       " 'electron',\n",
       " 'name',\n",
       " 'commerci',\n",
       " 'autom',\n",
       " 'precursor',\n",
       " 'spam',\n",
       " 'nation',\n",
       " 'mainli',\n",
       " 'data',\n",
       " '1960',\n",
       " 'hypertext',\n",
       " 'usual',\n",
       " 'server',\n",
       " 'consist',\n",
       " 'busi',\n",
       " 'code',\n",
       " 'reason',\n",
       " 'action']"
      ]
     },
     "execution_count": 187,
     "metadata": {},
     "output_type": "execute_result"
    }
   ],
   "source": [
    "s"
   ]
  },
  {
   "cell_type": "code",
   "execution_count": 188,
   "metadata": {},
   "outputs": [],
   "source": [
    "tfidf2=[]\n",
    "m=0\n",
    "for terms in s:\n",
    "    di[terms]=0\n",
    "    for word in n_pstem:\n",
    "        if word==terms:\n",
    "            di[terms]+=1\n",
    "        if(m<=di[terms]):\n",
    "            m=di[terms]\n",
    "for t in di:\n",
    "    di[t]=(di[t]/m)*idf[t]\n",
    "    "
   ]
  },
  {
   "cell_type": "code",
   "execution_count": 189,
   "metadata": {},
   "outputs": [
    {
     "data": {
      "text/plain": [
       "1"
      ]
     },
     "execution_count": 189,
     "metadata": {},
     "output_type": "execute_result"
    }
   ],
   "source": [
    "m"
   ]
  },
  {
   "cell_type": "code",
   "execution_count": 190,
   "metadata": {},
   "outputs": [
    {
     "data": {
      "text/plain": [
       "{'optic': 0.0,\n",
       " 'protocol': 0.0,\n",
       " 'theme': 0.0,\n",
       " 'applic': 0.0,\n",
       " \"''\": 0.0,\n",
       " 'browser': 0.0,\n",
       " 'also': 0.0,\n",
       " 'confus': 0.0,\n",
       " 'mani': 0.0,\n",
       " 'document': 0.0,\n",
       " 'search': 0.0,\n",
       " 'page': 0.0,\n",
       " 'robust': 0.0,\n",
       " 'fault-toler': 0.0,\n",
       " ')': 0.0,\n",
       " 'valid': 0.0,\n",
       " 'make': 0.0,\n",
       " 'use': 0.0,\n",
       " 'wide': 0.0,\n",
       " 'network': 0.0,\n",
       " 'common': 0.0,\n",
       " 'new': 0.0,\n",
       " ']': 0.0,\n",
       " 'myriad': 0.0,\n",
       " 'crawl': 0.0,\n",
       " 'particular': 0.0,\n",
       " 'see': 0.0,\n",
       " 'fast': 0.0,\n",
       " 'rang': 0.0,\n",
       " 'extens': 0.0,\n",
       " 'fund': 0.0,\n",
       " 'arpanet': 0.0,\n",
       " 'known': 0.0,\n",
       " 'publish': 0.0,\n",
       " 'initi': 0.0,\n",
       " 'global': 0.0,\n",
       " 'unit': 0.0,\n",
       " 'mean': 0.0,\n",
       " 'first': 0.0,\n",
       " 'depend': 0.0,\n",
       " 'manner': 0.0,\n",
       " 'domain': 0.0,\n",
       " 'vast': 0.0,\n",
       " 'store': 0.0,\n",
       " 'privat': 0.0,\n",
       " 'method': 0.0,\n",
       " ',': 0.0,\n",
       " 'e-mail': 0.0,\n",
       " 'date': 0.0,\n",
       " 'merger': 0.0,\n",
       " 'inter-link': 0.0,\n",
       " 'check': 0.0,\n",
       " 'mail': 0.0,\n",
       " 'academ': 0.0,\n",
       " 'download': 0.0,\n",
       " 'array': 0.0,\n",
       " 'local': 0.0,\n",
       " 'foundat': 0.0,\n",
       " 'government': 0.0,\n",
       " 'entertain': 0.0,\n",
       " 'tcp/ip': 0.0,\n",
       " 'www': 0.0,\n",
       " 'state': 0.0,\n",
       " 'copi': 0.0,\n",
       " 'primari': 0.0,\n",
       " 'spider': 0.0,\n",
       " 'origin': 0.0,\n",
       " 'public': 0.0,\n",
       " 'wireless': 0.0,\n",
       " '1': 0.0,\n",
       " 'scienc': 0.0,\n",
       " 'govern': 0.0,\n",
       " 'task': 0.0,\n",
       " 'larg': 0.0,\n",
       " 'interact': 0.0,\n",
       " 'comput': 0.0,\n",
       " 'html': 0.0,\n",
       " 'telephoni': 0.0,\n",
       " 'contribut': 0.0,\n",
       " '(': 0.0,\n",
       " '[': 0.0,\n",
       " 'legitim': 0.0,\n",
       " 'call': 0.0,\n",
       " 'well': 0.0,\n",
       " 'respond': 0.0,\n",
       " 'harvest': 0.0,\n",
       " 'worldwideweb': 0.0,\n",
       " 'file': 0.0,\n",
       " 'type': 0.0,\n",
       " 'technolog': 0.0,\n",
       " 'brows': 0.0,\n",
       " 'index': 0.0,\n",
       " 'worldwid': 0.0,\n",
       " 'site': 0.0,\n",
       " 'particip': 0.0,\n",
       " 'upon': 0.0,\n",
       " 'later': 0.0,\n",
       " 'portmanteau': 0.0,\n",
       " 'provid': 0.0,\n",
       " 'region': 0.0,\n",
       " 'creat': 0.0,\n",
       " 'disambigu': 0.0,\n",
       " 'feder': 0.0,\n",
       " 'redirect': 0.0,\n",
       " '``': 0.0,\n",
       " 'commiss': 0.0,\n",
       " 'serv': 0.0,\n",
       " 'carri': 0.0,\n",
       " 'scope': 0.0,\n",
       " \"'s\": 0.0,\n",
       " 'build': 0.0,\n",
       " 'engin': 0.0,\n",
       " 'research': 0.0,\n",
       " 'world': 0.0,\n",
       " 'websit': 0.0,\n",
       " 'request': 0.0,\n",
       " 'user': 0.0,\n",
       " 'script': 0.0,\n",
       " 'interconnect': 0.0,\n",
       " 'content': 0.0,\n",
       " 'process': 0.0,\n",
       " 'link': 0.0,\n",
       " 'program': 0.0,\n",
       " 'softwar': 0.0,\n",
       " 'inform': 0.0,\n",
       " 'devic': 0.0,\n",
       " 'led': 0.0,\n",
       " 'up-to-d': 0.0,\n",
       " 'specif': 0.0,\n",
       " 'robot': 0.0,\n",
       " 'multipl': 0.0,\n",
       " 'militari': 0.0,\n",
       " 'gather': 0.0,\n",
       " 'visit': 0.0,\n",
       " 'internet': 0.0,\n",
       " 'run': 0.0,\n",
       " 'crawler': 0.3333333333333333,\n",
       " 'made': 0.0,\n",
       " 'non-government': 0.0,\n",
       " 'mainten': 0.0,\n",
       " '.': 0.0,\n",
       " 'back': 0.0,\n",
       " 'commun': 0.0,\n",
       " '1980': 0.0,\n",
       " 'develop': 0.0,\n",
       " 'address': 0.0,\n",
       " 'backbon': 0.0,\n",
       " 'broad': 0.0,\n",
       " 'suit': 0.0,\n",
       " 'system': 0.0,\n",
       " 'may': 0.0,\n",
       " 'share': 0.0,\n",
       " 'web': 1.0,\n",
       " 'resourc': 0.0,\n",
       " 'servic': 0.0,\n",
       " 'electron': 0.0,\n",
       " 'name': 0.0,\n",
       " 'commerci': 0.0,\n",
       " 'autom': 0.0,\n",
       " 'precursor': 0.0,\n",
       " 'spam': 0.0,\n",
       " 'nation': 0.0,\n",
       " 'mainli': 0.0,\n",
       " 'data': 0.0,\n",
       " '1960': 0.0,\n",
       " 'hypertext': 0.0,\n",
       " 'usual': 0.0,\n",
       " 'server': 0.0,\n",
       " 'consist': 0.0,\n",
       " 'busi': 0.0,\n",
       " 'code': 0.0,\n",
       " 'reason': 0.0,\n",
       " 'action': 0.0}"
      ]
     },
     "execution_count": 190,
     "metadata": {},
     "output_type": "execute_result"
    }
   ],
   "source": [
    "tfidf[2]"
   ]
  },
  {
   "cell_type": "code",
   "execution_count": 192,
   "metadata": {},
   "outputs": [],
   "source": [
    "import numpy as np\n",
    "from sklearn.metrics.pairwise import cosine_similarity\n",
    " \n",
    "# vectors\n",
    "a = np.array(list(tfidf[0].values()))\n",
    "b = np.array(list(di.values()))\n",
    " \n",
    "# manually compute cosine similarity\n",
    "dot = np.dot(a, b)\n",
    "norma = np.linalg.norm(a)\n",
    "normb = np.linalg.norm(b)\n",
    "cos = dot / (norma * normb)\n",
    " \n",
    "# cos_lib = cosine_similarity(aa, ba)\n",
    " \n",
    "# print(\n",
    "#     dot,\n",
    "#     norma,\n",
    "#     normb,\n",
    "#     cos,\n",
    "#     cos_lib[0][0]\n",
    "# )"
   ]
  },
  {
   "cell_type": "code",
   "execution_count": 193,
   "metadata": {},
   "outputs": [
    {
     "data": {
      "text/plain": [
       "0.6032886140636612"
      ]
     },
     "execution_count": 193,
     "metadata": {},
     "output_type": "execute_result"
    }
   ],
   "source": [
    "cos"
   ]
  },
  {
   "cell_type": "code",
   "execution_count": 194,
   "metadata": {},
   "outputs": [],
   "source": [
    "import numpy as np\n",
    "from sklearn.metrics.pairwise import cosine_similarity\n",
    " \n",
    "# vectors\n",
    "a = np.array(list(tfidf[1].values()))\n",
    "b = np.array(list(di.values()))\n",
    " \n",
    "# manually compute cosine similarity\n",
    "dot = np.dot(a, b)\n",
    "norma = np.linalg.norm(a)\n",
    "normb = np.linalg.norm(b)\n",
    "cos = dot / (norma * normb)\n",
    " \n",
    "# cos_lib = cosine_similarity(aa, ba)\n",
    " \n",
    "# print(\n",
    "#     dot,\n",
    "#     norma,\n",
    "#     normb,\n",
    "#     cos,\n",
    "#     cos_lib[0][0]\n",
    "# )"
   ]
  },
  {
   "cell_type": "code",
   "execution_count": 195,
   "metadata": {},
   "outputs": [
    {
     "data": {
      "text/plain": [
       "0.39305968097292737"
      ]
     },
     "execution_count": 195,
     "metadata": {},
     "output_type": "execute_result"
    }
   ],
   "source": [
    "cos\n"
   ]
  },
  {
   "cell_type": "code",
   "execution_count": null,
   "metadata": {},
   "outputs": [],
   "source": [
    "import numpy as np\n",
    "from sklearn.metrics.pairwise import cosine_similarity\n",
    " \n",
    "# vectors\n",
    "a = np.array(list(tfidf[2].values()))\n",
    "b = np.array(list(di.values()))\n",
    " \n",
    "# manually compute cosine similarity\n",
    "dot = np.dot(a, b)\n",
    "norma = np.linalg.norm(a)\n",
    "normb = np.linalg.norm(b)\n",
    "cos = dot / (norma * normb)\n",
    " \n",
    "# cos_lib = cosine_similarity(aa, ba)\n",
    " \n",
    "# print(\n",
    "#     dot,\n",
    "#     norma,\n",
    "#     normb,\n",
    "#     cos,\n",
    "#     cos_lib[0][0]\n",
    "# )"
   ]
  },
  {
   "cell_type": "code",
   "execution_count": 196,
   "metadata": {},
   "outputs": [
    {
     "data": {
      "text/plain": [
       "0.39305968097292737"
      ]
     },
     "execution_count": 196,
     "metadata": {},
     "output_type": "execute_result"
    }
   ],
   "source": [
    "cos\n"
   ]
  },
  {
   "cell_type": "code",
   "execution_count": null,
   "metadata": {},
   "outputs": [],
   "source": []
  }
 ],
 "metadata": {
  "kernelspec": {
   "display_name": "Python 3",
   "language": "python",
   "name": "python3"
  },
  "language_info": {
   "codemirror_mode": {
    "name": "ipython",
    "version": 3
   },
   "file_extension": ".py",
   "mimetype": "text/x-python",
   "name": "python",
   "nbconvert_exporter": "python",
   "pygments_lexer": "ipython3",
   "version": "3.7.3"
  }
 },
 "nbformat": 4,
 "nbformat_minor": 2
}
