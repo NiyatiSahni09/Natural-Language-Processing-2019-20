{
 "cells": [
  {
   "cell_type": "code",
   "execution_count": null,
   "metadata": {},
   "outputs": [],
   "source": [
    "#Task 1 representing a piece of text and a paragraph in a string format\n",
    "# Niyati Sahni 17BCE0506"
   ]
  },
  {
   "cell_type": "code",
   "execution_count": 1,
   "metadata": {},
   "outputs": [
    {
     "name": "stdout",
     "output_type": "stream",
     "text": [
      "William Shakespeare (bapt. 26 April 1564 – 23 April 1616)[a] was an English poet, playwright, and actor, \n",
      "widely regarded as the greatest writer in the English language and the world's greatest dramatist.\n",
      "[2][3][4] He is often called England's national poet and the \"Bard of Avon\" (or simply \"the Bard\").[5][b] \n",
      "His extant works, including collaborations, consist of some 39 plays,[c] 154 sonnets, two long narrative poems,\n",
      "and a few other verses, some of uncertain authorship. His plays have been translated into every major living language and\n",
      "are performed more often than those of any other playwright\n"
     ]
    }
   ],
   "source": [
    "a='''William Shakespeare (bapt. 26 April 1564 – 23 April 1616)[a] was an English poet, playwright, and actor, \n",
    "widely regarded as the greatest writer in the English language and the world's greatest dramatist.\n",
    "[2][3][4] He is often called England's national poet and the \"Bard of Avon\" (or simply \"the Bard\").[5][b] \n",
    "His extant works, including collaborations, consist of some 39 plays,[c] 154 sonnets, two long narrative poems,\n",
    "and a few other verses, some of uncertain authorship. His plays have been translated into every major living language and\n",
    "are performed more often than those of any other playwright'''\n",
    "print(a)"
   ]
  },
  {
   "cell_type": "code",
   "execution_count": 7,
   "metadata": {},
   "outputs": [
    {
     "name": "stdout",
     "output_type": "stream",
     "text": [
      "सभी कुछ अच्छा चल रहा था। लेकिन एक बार वो बकरी बीमार पड़ी और इस कारण वह धीरे-धीरे कमजोर होने लगी इसलिए अब वो पूरा-पूरा दिन घर पर ही बिताने लेगी। बकरी ने जो खाना पहले से अपने लिए जमा करके रखा था, अब वो भी खत्म होते जा रहा था।\n"
     ]
    }
   ],
   "source": [
    "b='''सभी कुछ अच्छा चल रहा था। लेकिन एक बार वो बकरी बीमार पड़ी और इस कारण वह धीरे-धीरे कमजोर होने लगी इसलिए अब वो पूरा-पूरा दिन घर पर ही बिताने लेगी। बकरी ने जो खाना पहले से अपने लिए जमा करके रखा था, अब वो भी खत्म होते जा रहा था।'''\n",
    "print(b)"
   ]
  },
  {
   "cell_type": "code",
   "execution_count": null,
   "metadata": {},
   "outputs": [],
   "source": []
  }
 ],
 "metadata": {
  "kernelspec": {
   "display_name": "Python 3",
   "language": "python",
   "name": "python3"
  },
  "language_info": {
   "codemirror_mode": {
    "name": "ipython",
    "version": 3
   },
   "file_extension": ".py",
   "mimetype": "text/x-python",
   "name": "python",
   "nbconvert_exporter": "python",
   "pygments_lexer": "ipython3",
   "version": "3.7.3"
  }
 },
 "nbformat": 4,
 "nbformat_minor": 2
}
